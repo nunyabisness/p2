{
 "cells": [
  {
   "cell_type": "markdown",
   "id": "75923f2a",
   "metadata": {},
   "source": [
    "## **Importing the libraries required**"
   ]
  },
  {
   "cell_type": "code",
   "execution_count": 1,
   "id": "586ab020",
   "metadata": {
    "ExecuteTime": {
     "end_time": "2023-04-25T23:45:48.373299Z",
     "start_time": "2023-04-25T23:45:44.144310Z"
    }
   },
   "outputs": [],
   "source": [
    "# Importing the basic libraries we will require for the project\n",
    "\n",
    "import numpy as np;\n",
    "import pandas as pd;\n",
    "import matplotlib.pyplot as plt;\n",
    "import seaborn as sns;\n",
    "import csv,json;\n",
    "import os;\n",
    "\n",
    "# Importing the Machine Learning models we require from Scikit-Learn\n",
    "from sklearn import tree;\n",
    "from sklearn.tree import DecisionTreeClassifier;\n",
    "from sklearn.ensemble import RandomForestClassifier;\n",
    "\n",
    "# Importing the other functions we may require from Scikit-Learn\n",
    "from sklearn.model_selection import train_test_split, GridSearchCV, RandomizedSearchCV;\n",
    "from sklearn.metrics import recall_score, roc_curve, classification_report, confusion_matrix;\n",
    "from sklearn.preprocessing import StandardScaler, LabelEncoder, OneHotEncoder;\n",
    "from sklearn.compose import ColumnTransformer;\n",
    "from sklearn.impute import SimpleImputer;\n",
    "from sklearn.pipeline import Pipeline;\n",
    "from sklearn import metrics, model_selection;\n",
    "\n",
    "# Setting the random seed to 1 for reproducibility of results\n",
    "import random;\n",
    "random.seed(1);\n",
    "np.random.seed(1);\n",
    "\n",
    "# Code to ignore warnings from function usage\n",
    "import warnings;\n",
    "import numpy as np\n",
    "warnings.filterwarnings('ignore')"
   ]
  },
  {
   "cell_type": "code",
   "execution_count": 5,
   "id": "f073014e",
   "metadata": {
    "ExecuteTime": {
     "end_time": "2023-04-25T23:46:20.627086Z",
     "start_time": "2023-04-25T23:46:20.222288Z"
    }
   },
   "outputs": [
    {
     "data": {
      "text/html": [
       "<div>\n",
       "<style scoped>\n",
       "    .dataframe tbody tr th:only-of-type {\n",
       "        vertical-align: middle;\n",
       "    }\n",
       "\n",
       "    .dataframe tbody tr th {\n",
       "        vertical-align: top;\n",
       "    }\n",
       "\n",
       "    .dataframe thead th {\n",
       "        text-align: right;\n",
       "    }\n",
       "</style>\n",
       "<table border=\"1\" class=\"dataframe\">\n",
       "  <thead>\n",
       "    <tr style=\"text-align: right;\">\n",
       "      <th></th>\n",
       "      <th>objid</th>\n",
       "      <th>ra</th>\n",
       "      <th>dec</th>\n",
       "      <th>u</th>\n",
       "      <th>g</th>\n",
       "      <th>r</th>\n",
       "      <th>i</th>\n",
       "      <th>z</th>\n",
       "      <th>run</th>\n",
       "      <th>rerun</th>\n",
       "      <th>camcol</th>\n",
       "      <th>field</th>\n",
       "      <th>specobjid</th>\n",
       "      <th>class</th>\n",
       "      <th>redshift</th>\n",
       "      <th>plate</th>\n",
       "      <th>mjd</th>\n",
       "      <th>fiberid</th>\n",
       "    </tr>\n",
       "  </thead>\n",
       "  <tbody>\n",
       "    <tr>\n",
       "      <th>0</th>\n",
       "      <td>1237661976015274033</td>\n",
       "      <td>196.362072</td>\n",
       "      <td>7.667016</td>\n",
       "      <td>19.32757</td>\n",
       "      <td>19.20759</td>\n",
       "      <td>19.16249</td>\n",
       "      <td>19.07652</td>\n",
       "      <td>18.86196</td>\n",
       "      <td>3842</td>\n",
       "      <td>301</td>\n",
       "      <td>4</td>\n",
       "      <td>102</td>\n",
       "      <td>2020027785916999680</td>\n",
       "      <td>QSO</td>\n",
       "      <td>1.984419</td>\n",
       "      <td>1794</td>\n",
       "      <td>54504</td>\n",
       "      <td>594</td>\n",
       "    </tr>\n",
       "    <tr>\n",
       "      <th>1</th>\n",
       "      <td>1237661362373066810</td>\n",
       "      <td>206.614664</td>\n",
       "      <td>45.924279</td>\n",
       "      <td>18.95918</td>\n",
       "      <td>17.09173</td>\n",
       "      <td>16.25019</td>\n",
       "      <td>15.83413</td>\n",
       "      <td>15.55686</td>\n",
       "      <td>3699</td>\n",
       "      <td>301</td>\n",
       "      <td>5</td>\n",
       "      <td>121</td>\n",
       "      <td>1649585252231833600</td>\n",
       "      <td>GALAXY</td>\n",
       "      <td>0.064456</td>\n",
       "      <td>1465</td>\n",
       "      <td>53082</td>\n",
       "      <td>516</td>\n",
       "    </tr>\n",
       "    <tr>\n",
       "      <th>2</th>\n",
       "      <td>1237661360767238272</td>\n",
       "      <td>220.294728</td>\n",
       "      <td>40.894575</td>\n",
       "      <td>17.75587</td>\n",
       "      <td>16.54700</td>\n",
       "      <td>16.67694</td>\n",
       "      <td>16.77780</td>\n",
       "      <td>16.88097</td>\n",
       "      <td>3699</td>\n",
       "      <td>301</td>\n",
       "      <td>2</td>\n",
       "      <td>194</td>\n",
       "      <td>3812387877359296512</td>\n",
       "      <td>STAR</td>\n",
       "      <td>-0.000509</td>\n",
       "      <td>3386</td>\n",
       "      <td>54952</td>\n",
       "      <td>330</td>\n",
       "    </tr>\n",
       "    <tr>\n",
       "      <th>3</th>\n",
       "      <td>1237665440983416884</td>\n",
       "      <td>206.315349</td>\n",
       "      <td>27.438152</td>\n",
       "      <td>19.29195</td>\n",
       "      <td>19.12720</td>\n",
       "      <td>19.03992</td>\n",
       "      <td>18.76714</td>\n",
       "      <td>18.73874</td>\n",
       "      <td>4649</td>\n",
       "      <td>301</td>\n",
       "      <td>2</td>\n",
       "      <td>152</td>\n",
       "      <td>6762291282364878848</td>\n",
       "      <td>QSO</td>\n",
       "      <td>1.882893</td>\n",
       "      <td>6006</td>\n",
       "      <td>56105</td>\n",
       "      <td>496</td>\n",
       "    </tr>\n",
       "    <tr>\n",
       "      <th>4</th>\n",
       "      <td>1237665531717812262</td>\n",
       "      <td>228.092653</td>\n",
       "      <td>20.807371</td>\n",
       "      <td>19.19731</td>\n",
       "      <td>18.26143</td>\n",
       "      <td>17.89954</td>\n",
       "      <td>17.76130</td>\n",
       "      <td>17.68726</td>\n",
       "      <td>4670</td>\n",
       "      <td>301</td>\n",
       "      <td>3</td>\n",
       "      <td>201</td>\n",
       "      <td>4454292673071960064</td>\n",
       "      <td>STAR</td>\n",
       "      <td>-0.000295</td>\n",
       "      <td>3956</td>\n",
       "      <td>55656</td>\n",
       "      <td>846</td>\n",
       "    </tr>\n",
       "  </tbody>\n",
       "</table>\n",
       "</div>"
      ],
      "text/plain": [
       "                 objid          ra        dec         u         g         r  \\\n",
       "0  1237661976015274033  196.362072   7.667016  19.32757  19.20759  19.16249   \n",
       "1  1237661362373066810  206.614664  45.924279  18.95918  17.09173  16.25019   \n",
       "2  1237661360767238272  220.294728  40.894575  17.75587  16.54700  16.67694   \n",
       "3  1237665440983416884  206.315349  27.438152  19.29195  19.12720  19.03992   \n",
       "4  1237665531717812262  228.092653  20.807371  19.19731  18.26143  17.89954   \n",
       "\n",
       "          i         z   run  rerun  camcol  field            specobjid  \\\n",
       "0  19.07652  18.86196  3842    301       4    102  2020027785916999680   \n",
       "1  15.83413  15.55686  3699    301       5    121  1649585252231833600   \n",
       "2  16.77780  16.88097  3699    301       2    194  3812387877359296512   \n",
       "3  18.76714  18.73874  4649    301       2    152  6762291282364878848   \n",
       "4  17.76130  17.68726  4670    301       3    201  4454292673071960064   \n",
       "\n",
       "    class  redshift  plate    mjd  fiberid  \n",
       "0     QSO  1.984419   1794  54504      594  \n",
       "1  GALAXY  0.064456   1465  53082      516  \n",
       "2    STAR -0.000509   3386  54952      330  \n",
       "3     QSO  1.882893   6006  56105      496  \n",
       "4    STAR -0.000295   3956  55656      846  "
      ]
     },
     "execution_count": 5,
     "metadata": {},
     "output_type": "execute_result"
    }
   ],
   "source": [
    "df_astro = pd.read_csv('Skyserver250k.csv');\n",
    "df_astro.head()"
   ]
  },
  {
   "cell_type": "code",
   "execution_count": 6,
   "id": "2b1b9bc0",
   "metadata": {
    "ExecuteTime": {
     "end_time": "2023-04-25T23:46:26.470936Z",
     "start_time": "2023-04-25T23:46:26.461447Z"
    }
   },
   "outputs": [
    {
     "data": {
      "text/plain": [
       "(250000, 18)"
      ]
     },
     "execution_count": 6,
     "metadata": {},
     "output_type": "execute_result"
    }
   ],
   "source": [
    "df_astro.shape"
   ]
  },
  {
   "cell_type": "markdown",
   "id": "2e7e9416",
   "metadata": {},
   "source": [
    "- This dataset has **250,000 rows and 18 columns**.\n",
    "- The dataset is quite voluminous, and has a high rows-to-columns ratio. This is quite **typical of astronomical datasets**, due to the vast number of celestial objects in the universe that can be detected today by modern telescopes and observatories."
   ]
  },
  {
   "cell_type": "code",
   "execution_count": 7,
   "id": "f49933b7",
   "metadata": {
    "ExecuteTime": {
     "end_time": "2023-04-25T23:46:49.185807Z",
     "start_time": "2023-04-25T23:46:49.158102Z"
    }
   },
   "outputs": [
    {
     "data": {
      "text/plain": [
       "GALAXY    127117\n",
       "STAR       96116\n",
       "QSO        26767\n",
       "Name: class, dtype: int64"
      ]
     },
     "execution_count": 7,
     "metadata": {},
     "output_type": "execute_result"
    }
   ],
   "source": [
    "df_astro['class'].value_counts()"
   ]
  },
  {
   "cell_type": "markdown",
   "id": "be67fcd1",
   "metadata": {},
   "source": [
    "## **Data Overview**\n",
    "### **First 5 & Last 5 Rows of the Dataset**\n",
    "Let's **view the first few rows and last few rows** of the dataset in order to understand its structure a little better.\n",
    "\n",
    "We will use the head() and tail() methods from Pandas to do this."
   ]
  },
  {
   "cell_type": "code",
   "execution_count": 8,
   "id": "67cc353f",
   "metadata": {
    "ExecuteTime": {
     "end_time": "2023-04-25T23:47:51.088325Z",
     "start_time": "2023-04-25T23:47:51.077528Z"
    }
   },
   "outputs": [
    {
     "data": {
      "text/html": [
       "<div>\n",
       "<style scoped>\n",
       "    .dataframe tbody tr th:only-of-type {\n",
       "        vertical-align: middle;\n",
       "    }\n",
       "\n",
       "    .dataframe tbody tr th {\n",
       "        vertical-align: top;\n",
       "    }\n",
       "\n",
       "    .dataframe thead th {\n",
       "        text-align: right;\n",
       "    }\n",
       "</style>\n",
       "<table border=\"1\" class=\"dataframe\">\n",
       "  <thead>\n",
       "    <tr style=\"text-align: right;\">\n",
       "      <th></th>\n",
       "      <th>objid</th>\n",
       "      <th>ra</th>\n",
       "      <th>dec</th>\n",
       "      <th>u</th>\n",
       "      <th>g</th>\n",
       "      <th>r</th>\n",
       "      <th>i</th>\n",
       "      <th>z</th>\n",
       "      <th>run</th>\n",
       "      <th>rerun</th>\n",
       "      <th>camcol</th>\n",
       "      <th>field</th>\n",
       "      <th>specobjid</th>\n",
       "      <th>class</th>\n",
       "      <th>redshift</th>\n",
       "      <th>plate</th>\n",
       "      <th>mjd</th>\n",
       "      <th>fiberid</th>\n",
       "    </tr>\n",
       "  </thead>\n",
       "  <tbody>\n",
       "    <tr>\n",
       "      <th>0</th>\n",
       "      <td>1237661976015274033</td>\n",
       "      <td>196.362072</td>\n",
       "      <td>7.667016</td>\n",
       "      <td>19.32757</td>\n",
       "      <td>19.20759</td>\n",
       "      <td>19.16249</td>\n",
       "      <td>19.07652</td>\n",
       "      <td>18.86196</td>\n",
       "      <td>3842</td>\n",
       "      <td>301</td>\n",
       "      <td>4</td>\n",
       "      <td>102</td>\n",
       "      <td>2020027785916999680</td>\n",
       "      <td>QSO</td>\n",
       "      <td>1.984419</td>\n",
       "      <td>1794</td>\n",
       "      <td>54504</td>\n",
       "      <td>594</td>\n",
       "    </tr>\n",
       "    <tr>\n",
       "      <th>1</th>\n",
       "      <td>1237661362373066810</td>\n",
       "      <td>206.614664</td>\n",
       "      <td>45.924279</td>\n",
       "      <td>18.95918</td>\n",
       "      <td>17.09173</td>\n",
       "      <td>16.25019</td>\n",
       "      <td>15.83413</td>\n",
       "      <td>15.55686</td>\n",
       "      <td>3699</td>\n",
       "      <td>301</td>\n",
       "      <td>5</td>\n",
       "      <td>121</td>\n",
       "      <td>1649585252231833600</td>\n",
       "      <td>GALAXY</td>\n",
       "      <td>0.064456</td>\n",
       "      <td>1465</td>\n",
       "      <td>53082</td>\n",
       "      <td>516</td>\n",
       "    </tr>\n",
       "    <tr>\n",
       "      <th>2</th>\n",
       "      <td>1237661360767238272</td>\n",
       "      <td>220.294728</td>\n",
       "      <td>40.894575</td>\n",
       "      <td>17.75587</td>\n",
       "      <td>16.54700</td>\n",
       "      <td>16.67694</td>\n",
       "      <td>16.77780</td>\n",
       "      <td>16.88097</td>\n",
       "      <td>3699</td>\n",
       "      <td>301</td>\n",
       "      <td>2</td>\n",
       "      <td>194</td>\n",
       "      <td>3812387877359296512</td>\n",
       "      <td>STAR</td>\n",
       "      <td>-0.000509</td>\n",
       "      <td>3386</td>\n",
       "      <td>54952</td>\n",
       "      <td>330</td>\n",
       "    </tr>\n",
       "    <tr>\n",
       "      <th>3</th>\n",
       "      <td>1237665440983416884</td>\n",
       "      <td>206.315349</td>\n",
       "      <td>27.438152</td>\n",
       "      <td>19.29195</td>\n",
       "      <td>19.12720</td>\n",
       "      <td>19.03992</td>\n",
       "      <td>18.76714</td>\n",
       "      <td>18.73874</td>\n",
       "      <td>4649</td>\n",
       "      <td>301</td>\n",
       "      <td>2</td>\n",
       "      <td>152</td>\n",
       "      <td>6762291282364878848</td>\n",
       "      <td>QSO</td>\n",
       "      <td>1.882893</td>\n",
       "      <td>6006</td>\n",
       "      <td>56105</td>\n",
       "      <td>496</td>\n",
       "    </tr>\n",
       "    <tr>\n",
       "      <th>4</th>\n",
       "      <td>1237665531717812262</td>\n",
       "      <td>228.092653</td>\n",
       "      <td>20.807371</td>\n",
       "      <td>19.19731</td>\n",
       "      <td>18.26143</td>\n",
       "      <td>17.89954</td>\n",
       "      <td>17.76130</td>\n",
       "      <td>17.68726</td>\n",
       "      <td>4670</td>\n",
       "      <td>301</td>\n",
       "      <td>3</td>\n",
       "      <td>201</td>\n",
       "      <td>4454292673071960064</td>\n",
       "      <td>STAR</td>\n",
       "      <td>-0.000295</td>\n",
       "      <td>3956</td>\n",
       "      <td>55656</td>\n",
       "      <td>846</td>\n",
       "    </tr>\n",
       "  </tbody>\n",
       "</table>\n",
       "</div>"
      ],
      "text/plain": [
       "                 objid          ra        dec         u         g         r  \\\n",
       "0  1237661976015274033  196.362072   7.667016  19.32757  19.20759  19.16249   \n",
       "1  1237661362373066810  206.614664  45.924279  18.95918  17.09173  16.25019   \n",
       "2  1237661360767238272  220.294728  40.894575  17.75587  16.54700  16.67694   \n",
       "3  1237665440983416884  206.315349  27.438152  19.29195  19.12720  19.03992   \n",
       "4  1237665531717812262  228.092653  20.807371  19.19731  18.26143  17.89954   \n",
       "\n",
       "          i         z   run  rerun  camcol  field            specobjid  \\\n",
       "0  19.07652  18.86196  3842    301       4    102  2020027785916999680   \n",
       "1  15.83413  15.55686  3699    301       5    121  1649585252231833600   \n",
       "2  16.77780  16.88097  3699    301       2    194  3812387877359296512   \n",
       "3  18.76714  18.73874  4649    301       2    152  6762291282364878848   \n",
       "4  17.76130  17.68726  4670    301       3    201  4454292673071960064   \n",
       "\n",
       "    class  redshift  plate    mjd  fiberid  \n",
       "0     QSO  1.984419   1794  54504      594  \n",
       "1  GALAXY  0.064456   1465  53082      516  \n",
       "2    STAR -0.000509   3386  54952      330  \n",
       "3     QSO  1.882893   6006  56105      496  \n",
       "4    STAR -0.000295   3956  55656      846  "
      ]
     },
     "execution_count": 8,
     "metadata": {},
     "output_type": "execute_result"
    }
   ],
   "source": [
    "# first 5 rows of the dataset\n",
    "df_astro.head()"
   ]
  },
  {
   "cell_type": "code",
   "execution_count": 9,
   "id": "31a82259",
   "metadata": {
    "ExecuteTime": {
     "end_time": "2023-04-25T23:48:06.548289Z",
     "start_time": "2023-04-25T23:48:06.525523Z"
    }
   },
   "outputs": [
    {
     "data": {
      "text/html": [
       "<div>\n",
       "<style scoped>\n",
       "    .dataframe tbody tr th:only-of-type {\n",
       "        vertical-align: middle;\n",
       "    }\n",
       "\n",
       "    .dataframe tbody tr th {\n",
       "        vertical-align: top;\n",
       "    }\n",
       "\n",
       "    .dataframe thead th {\n",
       "        text-align: right;\n",
       "    }\n",
       "</style>\n",
       "<table border=\"1\" class=\"dataframe\">\n",
       "  <thead>\n",
       "    <tr style=\"text-align: right;\">\n",
       "      <th></th>\n",
       "      <th>objid</th>\n",
       "      <th>ra</th>\n",
       "      <th>dec</th>\n",
       "      <th>u</th>\n",
       "      <th>g</th>\n",
       "      <th>r</th>\n",
       "      <th>i</th>\n",
       "      <th>z</th>\n",
       "      <th>run</th>\n",
       "      <th>rerun</th>\n",
       "      <th>camcol</th>\n",
       "      <th>field</th>\n",
       "      <th>specobjid</th>\n",
       "      <th>class</th>\n",
       "      <th>redshift</th>\n",
       "      <th>plate</th>\n",
       "      <th>mjd</th>\n",
       "      <th>fiberid</th>\n",
       "    </tr>\n",
       "  </thead>\n",
       "  <tbody>\n",
       "    <tr>\n",
       "      <th>249995</th>\n",
       "      <td>1237661360767565997</td>\n",
       "      <td>221.101714</td>\n",
       "      <td>40.641045</td>\n",
       "      <td>19.30748</td>\n",
       "      <td>18.22145</td>\n",
       "      <td>17.61426</td>\n",
       "      <td>17.32240</td>\n",
       "      <td>17.02841</td>\n",
       "      <td>3699</td>\n",
       "      <td>301</td>\n",
       "      <td>2</td>\n",
       "      <td>199</td>\n",
       "      <td>1572955889466370048</td>\n",
       "      <td>GALAXY</td>\n",
       "      <td>0.158805</td>\n",
       "      <td>1397</td>\n",
       "      <td>53119</td>\n",
       "      <td>268</td>\n",
       "    </tr>\n",
       "    <tr>\n",
       "      <th>249996</th>\n",
       "      <td>1237667783903084693</td>\n",
       "      <td>171.645089</td>\n",
       "      <td>22.797546</td>\n",
       "      <td>19.19911</td>\n",
       "      <td>17.79553</td>\n",
       "      <td>17.03988</td>\n",
       "      <td>16.63705</td>\n",
       "      <td>16.31786</td>\n",
       "      <td>5194</td>\n",
       "      <td>301</td>\n",
       "      <td>6</td>\n",
       "      <td>381</td>\n",
       "      <td>2814852916416899072</td>\n",
       "      <td>GALAXY</td>\n",
       "      <td>0.034430</td>\n",
       "      <td>2500</td>\n",
       "      <td>54178</td>\n",
       "      <td>375</td>\n",
       "    </tr>\n",
       "    <tr>\n",
       "      <th>249997</th>\n",
       "      <td>1237648704591233226</td>\n",
       "      <td>215.751103</td>\n",
       "      <td>0.044486</td>\n",
       "      <td>18.88386</td>\n",
       "      <td>17.51738</td>\n",
       "      <td>16.89393</td>\n",
       "      <td>16.39914</td>\n",
       "      <td>16.07888</td>\n",
       "      <td>752</td>\n",
       "      <td>301</td>\n",
       "      <td>4</td>\n",
       "      <td>482</td>\n",
       "      <td>342430828837496832</td>\n",
       "      <td>GALAXY</td>\n",
       "      <td>0.078681</td>\n",
       "      <td>304</td>\n",
       "      <td>51609</td>\n",
       "      <td>572</td>\n",
       "    </tr>\n",
       "    <tr>\n",
       "      <th>249998</th>\n",
       "      <td>1237660634386923630</td>\n",
       "      <td>163.501339</td>\n",
       "      <td>44.470389</td>\n",
       "      <td>18.49867</td>\n",
       "      <td>16.73666</td>\n",
       "      <td>15.88036</td>\n",
       "      <td>15.48524</td>\n",
       "      <td>15.14631</td>\n",
       "      <td>3530</td>\n",
       "      <td>301</td>\n",
       "      <td>1</td>\n",
       "      <td>286</td>\n",
       "      <td>1614541342266910720</td>\n",
       "      <td>GALAXY</td>\n",
       "      <td>0.048519</td>\n",
       "      <td>1434</td>\n",
       "      <td>53053</td>\n",
       "      <td>3</td>\n",
       "    </tr>\n",
       "    <tr>\n",
       "      <th>249999</th>\n",
       "      <td>1237668271376236954</td>\n",
       "      <td>236.495641</td>\n",
       "      <td>12.142432</td>\n",
       "      <td>19.39894</td>\n",
       "      <td>18.40550</td>\n",
       "      <td>18.06466</td>\n",
       "      <td>17.93771</td>\n",
       "      <td>17.87524</td>\n",
       "      <td>5308</td>\n",
       "      <td>301</td>\n",
       "      <td>2</td>\n",
       "      <td>295</td>\n",
       "      <td>5517031135849500672</td>\n",
       "      <td>STAR</td>\n",
       "      <td>0.000864</td>\n",
       "      <td>4900</td>\n",
       "      <td>55739</td>\n",
       "      <td>442</td>\n",
       "    </tr>\n",
       "  </tbody>\n",
       "</table>\n",
       "</div>"
      ],
      "text/plain": [
       "                      objid          ra        dec         u         g  \\\n",
       "249995  1237661360767565997  221.101714  40.641045  19.30748  18.22145   \n",
       "249996  1237667783903084693  171.645089  22.797546  19.19911  17.79553   \n",
       "249997  1237648704591233226  215.751103   0.044486  18.88386  17.51738   \n",
       "249998  1237660634386923630  163.501339  44.470389  18.49867  16.73666   \n",
       "249999  1237668271376236954  236.495641  12.142432  19.39894  18.40550   \n",
       "\n",
       "               r         i         z   run  rerun  camcol  field  \\\n",
       "249995  17.61426  17.32240  17.02841  3699    301       2    199   \n",
       "249996  17.03988  16.63705  16.31786  5194    301       6    381   \n",
       "249997  16.89393  16.39914  16.07888   752    301       4    482   \n",
       "249998  15.88036  15.48524  15.14631  3530    301       1    286   \n",
       "249999  18.06466  17.93771  17.87524  5308    301       2    295   \n",
       "\n",
       "                  specobjid   class  redshift  plate    mjd  fiberid  \n",
       "249995  1572955889466370048  GALAXY  0.158805   1397  53119      268  \n",
       "249996  2814852916416899072  GALAXY  0.034430   2500  54178      375  \n",
       "249997   342430828837496832  GALAXY  0.078681    304  51609      572  \n",
       "249998  1614541342266910720  GALAXY  0.048519   1434  53053        3  \n",
       "249999  5517031135849500672    STAR  0.000864   4900  55739      442  "
      ]
     },
     "execution_count": 9,
     "metadata": {},
     "output_type": "execute_result"
    }
   ],
   "source": [
    "# view the last 5 rows of the dataset\n",
    "df_astro.tail()"
   ]
  },
  {
   "cell_type": "markdown",
   "id": "a5f72ca7",
   "metadata": {},
   "source": [
    "### **Datatypes of the Features**\n",
    "Next, **let's check the datatypes** of the columns in the dataset. \n",
    "\n",
    "We are interested to know how many numerical and how many categorical features this dataset possesses."
   ]
  },
  {
   "cell_type": "code",
   "execution_count": 10,
   "id": "af534dc8",
   "metadata": {
    "ExecuteTime": {
     "end_time": "2023-04-25T23:48:41.405089Z",
     "start_time": "2023-04-25T23:48:41.325839Z"
    }
   },
   "outputs": [
    {
     "name": "stdout",
     "output_type": "stream",
     "text": [
      "<class 'pandas.core.frame.DataFrame'>\n",
      "RangeIndex: 250000 entries, 0 to 249999\n",
      "Data columns (total 18 columns):\n",
      " #   Column     Non-Null Count   Dtype  \n",
      "---  ------     --------------   -----  \n",
      " 0   objid      250000 non-null  int64  \n",
      " 1   ra         250000 non-null  float64\n",
      " 2   dec        250000 non-null  float64\n",
      " 3   u          250000 non-null  float64\n",
      " 4   g          250000 non-null  float64\n",
      " 5   r          250000 non-null  float64\n",
      " 6   i          250000 non-null  float64\n",
      " 7   z          250000 non-null  float64\n",
      " 8   run        250000 non-null  int64  \n",
      " 9   rerun      250000 non-null  int64  \n",
      " 10  camcol     250000 non-null  int64  \n",
      " 11  field      250000 non-null  int64  \n",
      " 12  specobjid  250000 non-null  uint64 \n",
      " 13  class      250000 non-null  object \n",
      " 14  redshift   250000 non-null  float64\n",
      " 15  plate      250000 non-null  int64  \n",
      " 16  mjd        250000 non-null  int64  \n",
      " 17  fiberid    250000 non-null  int64  \n",
      "dtypes: float64(8), int64(8), object(1), uint64(1)\n",
      "memory usage: 34.3+ MB\n"
     ]
    }
   ],
   "source": [
    "# check the datatypes of the columns in the \n",
    "df_astro.info()"
   ]
  },
  {
   "cell_type": "markdown",
   "id": "ee6b6d5b",
   "metadata": {
    "ExecuteTime": {
     "end_time": "2023-04-25T23:48:53.997977Z",
     "start_time": "2023-04-25T23:48:53.988974Z"
    }
   },
   "source": [
    "- As we can see above, apart from the `class` variable (the target variable) which is of the **object** datatype and is **categorical** in nature, all the other predictor variables here are **numerical** in nature, as they have **int64** and **float64** datatypes. \n",
    "- So this is a **classification problem where the original feature set uses entirely numerical features.** Numerical datasets like this which are about values of measurements, are **quite often found in astronomy**, and are ripe for machine learning problem solving, due to the affinity for numerical calculations that computers have.\n",
    "- The above table also confirms what we found earlier, that there are 250,000 rows and 18 columns in the original dataset. Since every column here has the same number (250,000) of non-null values, we can also conclude that **there is no missing data in the table** (due to the high quality of the data source), and we can proceed without needing to worry about missing value imputation techniques."
   ]
  },
  {
   "cell_type": "code",
   "execution_count": 12,
   "id": "89870be2",
   "metadata": {
    "ExecuteTime": {
     "end_time": "2023-04-25T23:49:30.878400Z",
     "start_time": "2023-04-25T23:49:30.837694Z"
    }
   },
   "outputs": [],
   "source": [
    "df_astro = df_astro.sample(n=50000)"
   ]
  },
  {
   "cell_type": "markdown",
   "id": "f5126e8c",
   "metadata": {
    "ExecuteTime": {
     "end_time": "2023-04-25T23:49:42.322743Z",
     "start_time": "2023-04-25T23:49:42.318054Z"
    }
   },
   "source": [
    "### **Missing Values**"
   ]
  },
  {
   "cell_type": "code",
   "execution_count": 14,
   "id": "4faa3808",
   "metadata": {
    "ExecuteTime": {
     "end_time": "2023-04-25T23:49:57.040617Z",
     "start_time": "2023-04-25T23:49:57.021631Z"
    }
   },
   "outputs": [
    {
     "data": {
      "text/plain": [
       "objid        0\n",
       "ra           0\n",
       "dec          0\n",
       "u            0\n",
       "g            0\n",
       "r            0\n",
       "i            0\n",
       "z            0\n",
       "run          0\n",
       "rerun        0\n",
       "camcol       0\n",
       "field        0\n",
       "specobjid    0\n",
       "class        0\n",
       "redshift     0\n",
       "plate        0\n",
       "mjd          0\n",
       "fiberid      0\n",
       "dtype: int64"
      ]
     },
     "execution_count": 14,
     "metadata": {},
     "output_type": "execute_result"
    }
   ],
   "source": [
    "# Checking for any missing values just in case\n",
    "df_astro.isnull().sum()"
   ]
  },
  {
   "cell_type": "markdown",
   "id": "c112c494",
   "metadata": {},
   "source": [
    "- It is hence confirmed that there are **no missing values** in this dataset."
   ]
  },
  {
   "cell_type": "markdown",
   "id": "69df8d31",
   "metadata": {},
   "source": [
    "### **Duplicate Rows**\n",
    "Let's also do a quick check to see if any of the rows in this dataset may be duplicates of each other, \n",
    "\n",
    "even though we know that will not be the case given the source of this data."
   ]
  },
  {
   "cell_type": "code",
   "execution_count": 15,
   "id": "8718f973",
   "metadata": {
    "ExecuteTime": {
     "end_time": "2023-04-25T23:50:39.121300Z",
     "start_time": "2023-04-25T23:50:39.061582Z"
    }
   },
   "outputs": [
    {
     "data": {
      "text/plain": [
       "0"
      ]
     },
     "execution_count": 15,
     "metadata": {},
     "output_type": "execute_result"
    }
   ],
   "source": [
    "# Let's also check for duplicate rows in the dataset\n",
    "df_astro.duplicated().sum()"
   ]
  },
  {
   "cell_type": "markdown",
   "id": "1094cca8",
   "metadata": {
    "ExecuteTime": {
     "end_time": "2023-04-25T23:50:47.024208Z",
     "start_time": "2023-04-25T23:50:47.006232Z"
    }
   },
   "source": [
    "As seen above, there are **no duplicate rows** in the dataset either."
   ]
  },
  {
   "cell_type": "markdown",
   "id": "caa24761",
   "metadata": {},
   "source": [
    "### **Class Distribution**\n",
    "Let's now look at the percentage class distribution of the target variable `class` in this classification dataset."
   ]
  },
  {
   "cell_type": "code",
   "execution_count": 17,
   "id": "f3d3d997",
   "metadata": {
    "ExecuteTime": {
     "end_time": "2023-04-25T23:51:24.164037Z",
     "start_time": "2023-04-25T23:51:24.141484Z"
    }
   },
   "outputs": [
    {
     "data": {
      "text/plain": [
       "GALAXY    51.074\n",
       "STAR      38.368\n",
       "QSO       10.558\n",
       "Name: class, dtype: float64"
      ]
     },
     "execution_count": 17,
     "metadata": {},
     "output_type": "execute_result"
    }
   ],
   "source": [
    "### Percentage class distribution of the target variable \"class\"\n",
    "df_astro['class'].value_counts(1)*100"
   ]
  },
  {
   "cell_type": "markdown",
   "id": "9853df76",
   "metadata": {
    "ExecuteTime": {
     "end_time": "2023-04-25T23:51:33.863179Z",
     "start_time": "2023-04-25T23:51:33.854394Z"
    }
   },
   "source": [
    "- **More than 50%** of the rows in this dataset are **Galaxies**.\n",
    "- Over **38%** of the instances are **Stars**, and just over 10% of the rows belong to the **QSO (Quasar)** class.\n",
    "- As mentioned while giving the context for this problem statement, although they are among the most luminous objects in interstellar space, **quasars are very rare** for astronomers to observe. So it makes sense that they comprise the smallest percentage of the data points present in the `class` variable.\n",
    "- This can hence be considered a **somewhat imbalanced** classification problem, but due to the size of the dataset, even the smallest class (QSO - quasar) has over 25,000 examples. Even after train-test splits, that should be enough training data for a machine learning algorithm to understand the patterns leading to that classification."
   ]
  },
  {
   "cell_type": "code",
   "execution_count": 19,
   "id": "b232177f",
   "metadata": {
    "ExecuteTime": {
     "end_time": "2023-04-25T23:51:53.220871Z",
     "start_time": "2023-04-25T23:51:53.206219Z"
    }
   },
   "outputs": [],
   "source": [
    "le = LabelEncoder()\n",
    "df_astro[\"class\"] = le.fit_transform(df_astro[\"class\"])\n",
    "df_astro[\"class\"] = df_astro[\"class\"].astype(int)"
   ]
  },
  {
   "cell_type": "code",
   "execution_count": 20,
   "id": "c57e6675",
   "metadata": {
    "ExecuteTime": {
     "end_time": "2023-04-25T23:51:59.628895Z",
     "start_time": "2023-04-25T23:51:59.613874Z"
    }
   },
   "outputs": [
    {
     "data": {
      "text/plain": [
       "240208    2\n",
       "18744     0\n",
       "207175    0\n",
       "18669     0\n",
       "189086    2\n",
       "         ..\n",
       "12026     0\n",
       "101461    2\n",
       "146611    1\n",
       "152140    0\n",
       "168265    1\n",
       "Name: class, Length: 50000, dtype: int32"
      ]
     },
     "execution_count": 20,
     "metadata": {},
     "output_type": "execute_result"
    }
   ],
   "source": [
    "df_astro['class']"
   ]
  },
  {
   "cell_type": "markdown",
   "id": "37ba6655",
   "metadata": {},
   "source": [
    "### **Statistical Summary**\n",
    "Since the predictor variables in this machine learning problem are all numerical, a **statistical summary** is definitely required so that we can understand some of the statistical properties of the features of our dataset."
   ]
  },
  {
   "cell_type": "code",
   "execution_count": 21,
   "id": "d3ba6fd1",
   "metadata": {
    "ExecuteTime": {
     "end_time": "2023-04-25T23:52:33.738296Z",
     "start_time": "2023-04-25T23:52:33.670624Z"
    }
   },
   "outputs": [
    {
     "data": {
      "text/html": [
       "<div>\n",
       "<style scoped>\n",
       "    .dataframe tbody tr th:only-of-type {\n",
       "        vertical-align: middle;\n",
       "    }\n",
       "\n",
       "    .dataframe tbody tr th {\n",
       "        vertical-align: top;\n",
       "    }\n",
       "\n",
       "    .dataframe thead th {\n",
       "        text-align: right;\n",
       "    }\n",
       "</style>\n",
       "<table border=\"1\" class=\"dataframe\">\n",
       "  <thead>\n",
       "    <tr style=\"text-align: right;\">\n",
       "      <th></th>\n",
       "      <th>count</th>\n",
       "      <th>mean</th>\n",
       "      <th>std</th>\n",
       "      <th>min</th>\n",
       "      <th>25%</th>\n",
       "      <th>50%</th>\n",
       "      <th>75%</th>\n",
       "      <th>max</th>\n",
       "    </tr>\n",
       "  </thead>\n",
       "  <tbody>\n",
       "    <tr>\n",
       "      <th>objid</th>\n",
       "      <td>50000.00000</td>\n",
       "      <td>1237662592402716928.00000</td>\n",
       "      <td>7207093862089.52148</td>\n",
       "      <td>1237645942905438464.00000</td>\n",
       "      <td>1237657629514236160.00000</td>\n",
       "      <td>1237662268074393856.00000</td>\n",
       "      <td>1237667211599904768.00000</td>\n",
       "      <td>1237680530812895744.00000</td>\n",
       "    </tr>\n",
       "    <tr>\n",
       "      <th>ra</th>\n",
       "      <td>50000.00000</td>\n",
       "      <td>178.38919</td>\n",
       "      <td>77.87886</td>\n",
       "      <td>0.01518</td>\n",
       "      <td>138.12116</td>\n",
       "      <td>181.08311</td>\n",
       "      <td>224.55207</td>\n",
       "      <td>359.99357</td>\n",
       "    </tr>\n",
       "    <tr>\n",
       "      <th>dec</th>\n",
       "      <td>50000.00000</td>\n",
       "      <td>24.46484</td>\n",
       "      <td>20.08817</td>\n",
       "      <td>-19.50182</td>\n",
       "      <td>6.84518</td>\n",
       "      <td>23.12350</td>\n",
       "      <td>39.70158</td>\n",
       "      <td>84.79483</td>\n",
       "    </tr>\n",
       "    <tr>\n",
       "      <th>u</th>\n",
       "      <td>50000.00000</td>\n",
       "      <td>18.63623</td>\n",
       "      <td>0.82798</td>\n",
       "      <td>11.41754</td>\n",
       "      <td>18.20821</td>\n",
       "      <td>18.86979</td>\n",
       "      <td>19.26691</td>\n",
       "      <td>19.59998</td>\n",
       "    </tr>\n",
       "    <tr>\n",
       "      <th>g</th>\n",
       "      <td>50000.00000</td>\n",
       "      <td>17.40655</td>\n",
       "      <td>0.98268</td>\n",
       "      <td>9.66834</td>\n",
       "      <td>16.84567</td>\n",
       "      <td>17.51230</td>\n",
       "      <td>18.05566</td>\n",
       "      <td>19.99148</td>\n",
       "    </tr>\n",
       "    <tr>\n",
       "      <th>r</th>\n",
       "      <td>50000.00000</td>\n",
       "      <td>16.88019</td>\n",
       "      <td>1.12646</td>\n",
       "      <td>9.05049</td>\n",
       "      <td>16.19581</td>\n",
       "      <td>16.88970</td>\n",
       "      <td>17.58307</td>\n",
       "      <td>31.41264</td>\n",
       "    </tr>\n",
       "    <tr>\n",
       "      <th>i</th>\n",
       "      <td>50000.00000</td>\n",
       "      <td>16.62614</td>\n",
       "      <td>1.20586</td>\n",
       "      <td>8.80997</td>\n",
       "      <td>15.86300</td>\n",
       "      <td>16.59721</td>\n",
       "      <td>17.34320</td>\n",
       "      <td>29.09998</td>\n",
       "    </tr>\n",
       "    <tr>\n",
       "      <th>z</th>\n",
       "      <td>50000.00000</td>\n",
       "      <td>16.46675</td>\n",
       "      <td>1.27357</td>\n",
       "      <td>9.22884</td>\n",
       "      <td>15.62477</td>\n",
       "      <td>16.42961</td>\n",
       "      <td>17.23214</td>\n",
       "      <td>28.75626</td>\n",
       "    </tr>\n",
       "    <tr>\n",
       "      <th>run</th>\n",
       "      <td>50000.00000</td>\n",
       "      <td>3985.58622</td>\n",
       "      <td>1678.04277</td>\n",
       "      <td>109.00000</td>\n",
       "      <td>2830.00000</td>\n",
       "      <td>3910.00000</td>\n",
       "      <td>5061.00000</td>\n",
       "      <td>8162.00000</td>\n",
       "    </tr>\n",
       "    <tr>\n",
       "      <th>rerun</th>\n",
       "      <td>50000.00000</td>\n",
       "      <td>301.00000</td>\n",
       "      <td>0.00000</td>\n",
       "      <td>301.00000</td>\n",
       "      <td>301.00000</td>\n",
       "      <td>301.00000</td>\n",
       "      <td>301.00000</td>\n",
       "      <td>301.00000</td>\n",
       "    </tr>\n",
       "    <tr>\n",
       "      <th>camcol</th>\n",
       "      <td>50000.00000</td>\n",
       "      <td>3.41080</td>\n",
       "      <td>1.60723</td>\n",
       "      <td>1.00000</td>\n",
       "      <td>2.00000</td>\n",
       "      <td>3.00000</td>\n",
       "      <td>5.00000</td>\n",
       "      <td>6.00000</td>\n",
       "    </tr>\n",
       "    <tr>\n",
       "      <th>field</th>\n",
       "      <td>50000.00000</td>\n",
       "      <td>188.63092</td>\n",
       "      <td>142.56631</td>\n",
       "      <td>11.00000</td>\n",
       "      <td>84.00000</td>\n",
       "      <td>154.00000</td>\n",
       "      <td>251.00000</td>\n",
       "      <td>986.00000</td>\n",
       "    </tr>\n",
       "    <tr>\n",
       "      <th>specobjid</th>\n",
       "      <td>50000.00000</td>\n",
       "      <td>2932821382617439744.00000</td>\n",
       "      <td>2500435815384516608.00000</td>\n",
       "      <td>299493525735630848.00000</td>\n",
       "      <td>1337623353455831040.00000</td>\n",
       "      <td>2356649444004358144.00000</td>\n",
       "      <td>3277520682476398592.00000</td>\n",
       "      <td>13177760526313476096.00000</td>\n",
       "    </tr>\n",
       "    <tr>\n",
       "      <th>class</th>\n",
       "      <td>50000.00000</td>\n",
       "      <td>0.87294</td>\n",
       "      <td>0.93717</td>\n",
       "      <td>0.00000</td>\n",
       "      <td>0.00000</td>\n",
       "      <td>0.00000</td>\n",
       "      <td>2.00000</td>\n",
       "      <td>2.00000</td>\n",
       "    </tr>\n",
       "    <tr>\n",
       "      <th>redshift</th>\n",
       "      <td>50000.00000</td>\n",
       "      <td>0.16859</td>\n",
       "      <td>0.43125</td>\n",
       "      <td>-0.00414</td>\n",
       "      <td>0.00001</td>\n",
       "      <td>0.04558</td>\n",
       "      <td>0.09553</td>\n",
       "      <td>6.40423</td>\n",
       "    </tr>\n",
       "    <tr>\n",
       "      <th>plate</th>\n",
       "      <td>50000.00000</td>\n",
       "      <td>2604.78306</td>\n",
       "      <td>2220.81942</td>\n",
       "      <td>266.00000</td>\n",
       "      <td>1188.00000</td>\n",
       "      <td>2093.00000</td>\n",
       "      <td>2911.00000</td>\n",
       "      <td>11704.00000</td>\n",
       "    </tr>\n",
       "    <tr>\n",
       "      <th>mjd</th>\n",
       "      <td>50000.00000</td>\n",
       "      <td>53927.35574</td>\n",
       "      <td>1551.03867</td>\n",
       "      <td>51608.00000</td>\n",
       "      <td>52733.00000</td>\n",
       "      <td>53732.00000</td>\n",
       "      <td>54589.00000</td>\n",
       "      <td>58543.00000</td>\n",
       "    </tr>\n",
       "    <tr>\n",
       "      <th>fiberid</th>\n",
       "      <td>50000.00000</td>\n",
       "      <td>350.38148</td>\n",
       "      <td>215.46894</td>\n",
       "      <td>1.00000</td>\n",
       "      <td>172.00000</td>\n",
       "      <td>342.00000</td>\n",
       "      <td>508.00000</td>\n",
       "      <td>1000.00000</td>\n",
       "    </tr>\n",
       "  </tbody>\n",
       "</table>\n",
       "</div>"
      ],
      "text/plain": [
       "                count                      mean                       std  \\\n",
       "objid     50000.00000 1237662592402716928.00000       7207093862089.52148   \n",
       "ra        50000.00000                 178.38919                  77.87886   \n",
       "dec       50000.00000                  24.46484                  20.08817   \n",
       "u         50000.00000                  18.63623                   0.82798   \n",
       "g         50000.00000                  17.40655                   0.98268   \n",
       "r         50000.00000                  16.88019                   1.12646   \n",
       "i         50000.00000                  16.62614                   1.20586   \n",
       "z         50000.00000                  16.46675                   1.27357   \n",
       "run       50000.00000                3985.58622                1678.04277   \n",
       "rerun     50000.00000                 301.00000                   0.00000   \n",
       "camcol    50000.00000                   3.41080                   1.60723   \n",
       "field     50000.00000                 188.63092                 142.56631   \n",
       "specobjid 50000.00000 2932821382617439744.00000 2500435815384516608.00000   \n",
       "class     50000.00000                   0.87294                   0.93717   \n",
       "redshift  50000.00000                   0.16859                   0.43125   \n",
       "plate     50000.00000                2604.78306                2220.81942   \n",
       "mjd       50000.00000               53927.35574                1551.03867   \n",
       "fiberid   50000.00000                 350.38148                 215.46894   \n",
       "\n",
       "                                min                       25%  \\\n",
       "objid     1237645942905438464.00000 1237657629514236160.00000   \n",
       "ra                          0.01518                 138.12116   \n",
       "dec                       -19.50182                   6.84518   \n",
       "u                          11.41754                  18.20821   \n",
       "g                           9.66834                  16.84567   \n",
       "r                           9.05049                  16.19581   \n",
       "i                           8.80997                  15.86300   \n",
       "z                           9.22884                  15.62477   \n",
       "run                       109.00000                2830.00000   \n",
       "rerun                     301.00000                 301.00000   \n",
       "camcol                      1.00000                   2.00000   \n",
       "field                      11.00000                  84.00000   \n",
       "specobjid  299493525735630848.00000 1337623353455831040.00000   \n",
       "class                       0.00000                   0.00000   \n",
       "redshift                   -0.00414                   0.00001   \n",
       "plate                     266.00000                1188.00000   \n",
       "mjd                     51608.00000               52733.00000   \n",
       "fiberid                     1.00000                 172.00000   \n",
       "\n",
       "                                50%                       75%  \\\n",
       "objid     1237662268074393856.00000 1237667211599904768.00000   \n",
       "ra                        181.08311                 224.55207   \n",
       "dec                        23.12350                  39.70158   \n",
       "u                          18.86979                  19.26691   \n",
       "g                          17.51230                  18.05566   \n",
       "r                          16.88970                  17.58307   \n",
       "i                          16.59721                  17.34320   \n",
       "z                          16.42961                  17.23214   \n",
       "run                      3910.00000                5061.00000   \n",
       "rerun                     301.00000                 301.00000   \n",
       "camcol                      3.00000                   5.00000   \n",
       "field                     154.00000                 251.00000   \n",
       "specobjid 2356649444004358144.00000 3277520682476398592.00000   \n",
       "class                       0.00000                   2.00000   \n",
       "redshift                    0.04558                   0.09553   \n",
       "plate                    2093.00000                2911.00000   \n",
       "mjd                     53732.00000               54589.00000   \n",
       "fiberid                   342.00000                 508.00000   \n",
       "\n",
       "                                 max  \n",
       "objid      1237680530812895744.00000  \n",
       "ra                         359.99357  \n",
       "dec                         84.79483  \n",
       "u                           19.59998  \n",
       "g                           19.99148  \n",
       "r                           31.41264  \n",
       "i                           29.09998  \n",
       "z                           28.75626  \n",
       "run                       8162.00000  \n",
       "rerun                      301.00000  \n",
       "camcol                       6.00000  \n",
       "field                      986.00000  \n",
       "specobjid 13177760526313476096.00000  \n",
       "class                        2.00000  \n",
       "redshift                     6.40423  \n",
       "plate                    11704.00000  \n",
       "mjd                      58543.00000  \n",
       "fiberid                   1000.00000  "
      ]
     },
     "execution_count": 21,
     "metadata": {},
     "output_type": "execute_result"
    }
   ],
   "source": [
    "# We would like the format of the values in the table to be simple float numbers with 5 decimal places, hence the code below\n",
    "pd.set_option('display.float_format', lambda x: '%.5f' % x)\n",
    "\n",
    "# Let's view the statistical summary of the columns in the dataset\n",
    "df_astro.describe().T"
   ]
  },
  {
   "cell_type": "markdown",
   "id": "f7aa39a4",
   "metadata": {},
   "source": [
    "**Observations:**\n",
    "- The maximum value of `redshift` is 6.4 and minimum value is 0.16.\n",
    "- The mean of alpha (`ra`) is 178.3 and standard deviation is 77.87 whereas mean and standard deviation of delta(dec) variable is 24.4 and 20.8.\n",
    "- The statistical summary of `r`,`i` and `z` variables are more or less similar, their range of values are same.  \n",
    "- The dec and redshift features in the data have negative data points."
   ]
  },
  {
   "cell_type": "code",
   "execution_count": 22,
   "id": "08779ce6",
   "metadata": {
    "ExecuteTime": {
     "end_time": "2023-04-25T23:52:59.307134Z",
     "start_time": "2023-04-25T23:52:59.270800Z"
    }
   },
   "outputs": [
    {
     "data": {
      "text/plain": [
       "objid        50000\n",
       "ra           50000\n",
       "dec          50000\n",
       "u            44423\n",
       "g            46340\n",
       "r            46771\n",
       "i            47078\n",
       "z            47286\n",
       "run            527\n",
       "rerun            1\n",
       "camcol           6\n",
       "field          817\n",
       "specobjid    50000\n",
       "class            3\n",
       "redshift     49713\n",
       "plate         5726\n",
       "mjd           2134\n",
       "fiberid        996\n",
       "dtype: int64"
      ]
     },
     "execution_count": 22,
     "metadata": {},
     "output_type": "execute_result"
    }
   ],
   "source": [
    "# Number of unique values in each column\n",
    "df_astro.nunique()"
   ]
  },
  {
   "cell_type": "markdown",
   "id": "ef0c4058",
   "metadata": {},
   "source": [
    "- The `objid` and `specobjid` columns are clearly unique IDs, that is why they have the same number of values as the total number of rows in the dataset."
   ]
  },
  {
   "cell_type": "markdown",
   "id": "59be6f03",
   "metadata": {},
   "source": [
    "### **Data Preprocessing - Removal of ID columns**\n",
    "Since the `objid` and `specobjid` columns are unique IDs, they will not add any predictive power to the machine learning model, and they can hence be removed."
   ]
  },
  {
   "cell_type": "code",
   "execution_count": 23,
   "id": "030be67a",
   "metadata": {
    "ExecuteTime": {
     "end_time": "2023-04-25T23:54:39.530804Z",
     "start_time": "2023-04-25T23:54:39.510684Z"
    }
   },
   "outputs": [],
   "source": [
    "# Removing the objid and specobjid columns from the dataset\n",
    "df_astro.drop(columns=['objid', 'specobjid'], inplace=True)"
   ]
  },
  {
   "cell_type": "code",
   "execution_count": null,
   "id": "dabafc7d",
   "metadata": {},
   "outputs": [],
   "source": []
  }
 ],
 "metadata": {
  "kernelspec": {
   "display_name": "Python 3 (ipykernel)",
   "language": "python",
   "name": "python3"
  },
  "language_info": {
   "codemirror_mode": {
    "name": "ipython",
    "version": 3
   },
   "file_extension": ".py",
   "mimetype": "text/x-python",
   "name": "python",
   "nbconvert_exporter": "python",
   "pygments_lexer": "ipython3",
   "version": "3.9.12"
  },
  "toc": {
   "base_numbering": 1,
   "nav_menu": {},
   "number_sections": true,
   "sideBar": true,
   "skip_h1_title": false,
   "title_cell": "Table of Contents",
   "title_sidebar": "Contents",
   "toc_cell": false,
   "toc_position": {},
   "toc_section_display": true,
   "toc_window_display": false
  },
  "varInspector": {
   "cols": {
    "lenName": 16,
    "lenType": 16,
    "lenVar": 40
   },
   "kernels_config": {
    "python": {
     "delete_cmd_postfix": "",
     "delete_cmd_prefix": "del ",
     "library": "var_list.py",
     "varRefreshCmd": "print(var_dic_list())"
    },
    "r": {
     "delete_cmd_postfix": ") ",
     "delete_cmd_prefix": "rm(",
     "library": "var_list.r",
     "varRefreshCmd": "cat(var_dic_list()) "
    }
   },
   "types_to_exclude": [
    "module",
    "function",
    "builtin_function_or_method",
    "instance",
    "_Feature"
   ],
   "window_display": false
  }
 },
 "nbformat": 4,
 "nbformat_minor": 5
}
